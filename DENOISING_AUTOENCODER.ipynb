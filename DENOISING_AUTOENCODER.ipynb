{
  "nbformat": 4,
  "nbformat_minor": 0,
  "metadata": {
    "colab": {
      "provenance": []
    },
    "kernelspec": {
      "name": "python3",
      "display_name": "Python 3"
    },
    "language_info": {
      "name": "python"
    }
  },
  "cells": [
    {
      "cell_type": "code",
      "execution_count": null,
      "metadata": {
        "cellView": "form",
        "id": "_KxalH6I79ro"
      },
      "outputs": [],
      "source": [
        "#@markdown #**IMPORTING NECESSARY LIBRARIES**\n",
        "###1. Load Data and Splot Data\n",
        "\n",
        "from tensorflow.keras.datasets import fashion_mnist\n",
        "from tensorflow.keras.models import Sequential\n",
        "from tensorflow.keras.layers import Dense\n",
        "from tensorflow.keras.utils import to_categorical\n",
        "\n",
        "import numpy as np\n",
        "import pandas as pd\n",
        "import keras\n",
        "import tensorflow as tf\n",
        "import matplotlib.pyplot as plt"
      ]
    },
    {
      "cell_type": "code",
      "source": [
        "#@markdown ##**Spliting the data into x_train, y_train, x_test and y_test**\n",
        "# splitting the data into test and train set\n",
        "(x_train, _), (x_test, _) = fashion_mnist.load_data()\n"
      ],
      "metadata": {
        "cellView": "form",
        "id": "0vsEG0Nf8ey-"
      },
      "execution_count": null,
      "outputs": []
    },
    {
      "cell_type": "code",
      "source": [
        "#@markdown ##**Displaying the sample images from x_train**\n",
        "import matplotlib.pyplot as plt\n",
        "\n",
        "# Number of digits to display\n",
        "n = 10\n",
        "\n",
        "# Create a figure to display the images\n",
        "plt.figure(figsize=(20, 4))\n",
        "\n",
        "# Loop through the first 'n' images\n",
        "for i in range(n):\n",
        "    # Create a subplot within the figure\n",
        "    ax = plt.subplot(2, n, i + 1)\n",
        "\n",
        "    # Display the original image\n",
        "    plt.imshow(X_test[i].reshape(28, 28))\n",
        "\n",
        "    # Set colormap to grayscale\n",
        "    plt.gray()\n",
        "\n",
        "    # Hide x-axis and y-axis labels and ticks\n",
        "    ax.get_xaxis().set_visible(False)\n",
        "    ax.get_yaxis().set_visible(False)\n",
        "\n",
        "# Show the figure with the images\n",
        "plt.show()\n",
        "\n",
        "# Close the figure\n",
        "plt.close()\n"
      ],
      "metadata": {
        "cellView": "form",
        "id": "8j5sM4S-8nS7"
      },
      "execution_count": null,
      "outputs": []
    },
    {
      "cell_type": "code",
      "source": [
        "#@markdown ##**Displaying the shape of x_train and X_test**\n",
        "\n",
        "print(x_train.shape)\n",
        "print(x_test.shape)"
      ],
      "metadata": {
        "cellView": "form",
        "id": "EmymylR18pey"
      },
      "execution_count": null,
      "outputs": []
    },
    {
      "cell_type": "code",
      "source": [
        " #@markdown #**IMPORTING LIBRARIES FOR CNN**\n",
        "from tensorflow.keras.layers import Input, Conv2D, MaxPooling2D, UpSampling2D, Flatten, Reshape\n",
        "from tensorflow.keras.models import Model"
      ],
      "metadata": {
        "cellView": "form",
        "id": "jGlw08EL8vic"
      },
      "execution_count": null,
      "outputs": []
    },
    {
      "cell_type": "code",
      "source": [
        " #@markdown #**SHAPE**\n",
        "print (x_train.shape)\n",
        "print (x_test.shape)"
      ],
      "metadata": {
        "cellView": "form",
        "id": "7bScDef69Cdq"
      },
      "execution_count": null,
      "outputs": []
    },
    {
      "cell_type": "code",
      "source": [
        " #@markdown #**Create Noisy Data**\n",
        "noise_factor = 0.5\n",
        "x_train_noisy = x_train + noise_factor * np.random.normal(loc=0.0, scale=1.0, size=x_train.shape)\n",
        "x_test_noisy = x_test + noise_factor * np.random.normal(loc=0.0, scale=1.0, size=x_test.shape)\n",
        "\n",
        "x_train_noisy = np.clip(x_train_noisy, 0., 1.)\n",
        "x_test_noisy = np.clip(x_test_noisy, 0., 1.)\n",
        "print(x_train_noisy.shape,x_test_noisy.shape )"
      ],
      "metadata": {
        "cellView": "form",
        "id": "wdnZeNqc9Fki"
      },
      "execution_count": null,
      "outputs": []
    },
    {
      "cell_type": "code",
      "source": [
        " #@markdown #**PRINTING NOISY DATA**\n",
        "n = 10  # how many digits we will display\n",
        "plt.figure(figsize=(20, 4))\n",
        "for i in range(n):\n",
        "    # display original\n",
        "    ax = plt.subplot(1, n, i + 1)\n",
        "    plt.imshow(x_train_noisy[i].reshape(28, 28))\n",
        "    plt.gray()\n",
        "    ax.get_xaxis().set_visible(False)\n",
        "    ax.get_yaxis().set_visible(False)\n",
        "plt.show()\n",
        "plt.close()"
      ],
      "metadata": {
        "cellView": "form",
        "id": "9TKu4KBb9H38"
      },
      "execution_count": null,
      "outputs": []
    },
    {
      "cell_type": "code",
      "source": [
        " #@markdown #**ARCHITECTURE OF AUTOENCODER**\n",
        "input_layer_cnv = Input(shape = (28,28,1))\n",
        "ae_cnv_en = Conv2D (32, (3,3), activation = \"relu\", padding = \"same\", kernel_initializer=\"he_normal\")(input_layer_cnv)\n",
        "ae_cnv_en = MaxPooling2D ((2,2), padding=\"same\")(ae_cnv_en)\n",
        "\n",
        "ae_cnv_en = Conv2D (32, (3,3), activation = \"relu\", padding = \"same\")(ae_cnv_en)\n",
        "ae_cnv_en = MaxPooling2D ((2,2), padding=\"same\")(ae_cnv_en)\n",
        "\n",
        "ae_cnv_en = Conv2D (4, (3,3), activation = \"relu\", padding = \"same\")(ae_cnv_en)\n",
        "ae_cnv_en = MaxPooling2D ((2,2), padding=\"same\")(ae_cnv_en)\n",
        "\n",
        "ae_cnv_en = Flatten(name = \"bot\")(ae_cnv_en)\n",
        "\n",
        "ae_cnv_de = Reshape((4,4,4), input_shape= (64,), name= \"botnext0\")(ae_cnv_en)\n",
        "\n",
        "ae_cnv_de = Conv2D (4, (3,3), activation = \"relu\", padding = \"same\",name= \"botnext1\")(ae_cnv_de)\n",
        "ae_cnv_de = UpSampling2D ((2,2),name= \"botnext2\")(ae_cnv_de)\n",
        "\n",
        "ae_cnv_de = Conv2D (32, (3,3), activation = \"relu\", padding = \"same\", name= \"botnext3\")(ae_cnv_de)\n",
        "ae_cnv_de = UpSampling2D ((2,2), name= \"botnext4\")(ae_cnv_de)\n",
        "\n",
        "ae_cnv_de = Conv2D (32, (3,3), activation = \"relu\", padding = \"valid\",name= \"botnext5\")(ae_cnv_de)\n",
        "ae_cnv_de = UpSampling2D ((2,2), name= \"botnext6\")(ae_cnv_de)\n",
        "\n",
        "ae_cnv_de = Conv2D (1, (3,3), activation = \"sigmoid\", padding = \"same\",name = \"botnext7\")(ae_cnv_de)\n",
        "Ae_Conv_denoise = Model (inputs = input_layer_cnv, outputs = ae_cnv_de)\n",
        "\n",
        "#Ae_Conv.compile(optimizer=tf.keras.optimizers.SGD(0.09,clipvalue=2.5), loss='binary_crossentropy', metrics = [\"accuracy\"])\n",
        "\n",
        "Ae_Conv_denoise.compile(optimizer=tf.keras.optimizers.Adadelta(0.1,clipvalue=2), loss='binary_crossentropy', metrics = [\"accuracy\"])\n",
        "Ae_Conv_denoise.summary()"
      ],
      "metadata": {
        "cellView": "form",
        "id": "geqvMaui9KZ1"
      },
      "execution_count": null,
      "outputs": []
    },
    {
      "cell_type": "code",
      "source": [
        " #@markdown #**ENCODER**\n",
        "ae_conv_dns_encoder = Model (inputs = input_layer_cnv,outputs = Ae_Conv_denoise.get_layer(\"bot\").output, name = \"Conv_AE_dns_encoder\")\n",
        "ae_conv_dns_encoder.summary()"
      ],
      "metadata": {
        "cellView": "form",
        "id": "n6R3uIfX9KXj"
      },
      "execution_count": null,
      "outputs": []
    },
    {
      "cell_type": "code",
      "source": [
        " #@markdown #**DECODER**\n",
        "encode_inp_cnv = Input(shape = (64,))\n",
        "tmp_dec = Ae_Conv_denoise.get_layer(\"botnext0\")(encode_inp_cnv)\n",
        "for i in range(1,8):\n",
        "  st = \"botnext{}\".format(i)\n",
        "  tmp_dec = Ae_Conv_denoise.get_layer(st)(tmp_dec)\n",
        "\n",
        "ae_conv_dns_decoder = Model(inputs = encode_inp_cnv,outputs = tmp_dec, name= \"Conv_AE_dns_decoder\")\n",
        "ae_conv_dns_decoder.summary()"
      ],
      "metadata": {
        "cellView": "form",
        "id": "uvN66XNG9U-w"
      },
      "execution_count": null,
      "outputs": []
    },
    {
      "cell_type": "code",
      "source": [
        " #@markdown #**TRAINING**\n",
        "from time import time\n",
        "tic = time()\n",
        "Ae_Conv_denoise.fit(x_train_noisy, x_train,\n",
        "                epochs=500,\n",
        "                verbose=2,\n",
        "                batch_size=256,\n",
        "                shuffle=False, validation_split = 0.1)\n",
        "                #validation_data=(x_test, x_test))\n",
        "toc = time()\n",
        "print(\"Training Took {} Secs\".format(toc-tic))"
      ],
      "metadata": {
        "cellView": "form",
        "id": "02ze8Mh79X9K"
      },
      "execution_count": null,
      "outputs": []
    },
    {
      "cell_type": "code",
      "source": [
        " #@markdown #**TESTING**\n",
        "dns_encoded_imgs = ae_conv_dns_encoder.predict(x_test_noisy)\n",
        "#encoded_imgs = ae_conv_encoder.predict(x_train[0:100])\n",
        "print (dns_encoded_imgs.shape)"
      ],
      "metadata": {
        "cellView": "form",
        "id": "11Z_eCn79bUz"
      },
      "execution_count": null,
      "outputs": []
    },
    {
      "cell_type": "code",
      "source": [
        " #@markdown #**RECONSTRUCTED FROM NOISY IMAGES**\n",
        "#decoded_imgs = ae_conv_decoder.predict(encoded_imgs)\n",
        "dns_decoded_imgs = ae_conv_dns_decoder.predict(dns_encoded_imgs)\n",
        "# dns_decoded_image = Ae_Conv_denoise.predict(x_test_noisy)\n",
        "print(\"Recreated image Representation of Shape {} using Decoder and reduced Image representation of shape {}\".format (dns_decoded_imgs.shape,\n",
        "                                                                                                                      dns_encoded_imgs.shape))\n",
        "n = 10  # how many digits we will display\n",
        "k =16\n",
        "plt.figure(figsize=(20, 4))\n",
        "for i in range(n):\n",
        "    # display original\n",
        "    ax = plt.subplot(2, n, i + 1)\n",
        "    plt.imshow(x_test_noisy[i*k].reshape(28, 28))\n",
        "    plt.gray()\n",
        "    ax.get_xaxis().set_visible(False)\n",
        "    ax.get_yaxis().set_visible(False)\n",
        "\n",
        "    # display reconstruction\n",
        "    ax = plt.subplot(2, n, i + 1 + n)\n",
        "    plt.imshow(dns_decoded_imgs[i*k].reshape(28, 28))\n",
        "    plt.gray()\n",
        "    ax.get_xaxis().set_visible(False)\n",
        "    ax.get_yaxis().set_visible(False)\n",
        "plt.show()"
      ],
      "metadata": {
        "cellView": "form",
        "id": "rPJNzleS9dy6"
      },
      "execution_count": null,
      "outputs": []
    },
    {
      "cell_type": "code",
      "source": [
        " #@markdown #**RECONSTRUCTED FROM NOISY IMAGES**\n",
        "dns_decoded_image = Ae_Conv_denoise.predict(x_test_noisy)\n",
        "print(\"Recreated image Representation of Shape {} using Decoder and reduced Image representation of shape {}\".format (dns_decoded_image.shape,\n",
        "                                                                                                                      dns_decoded_image.shape))\n",
        "n = 10  # how many digits we will display\n",
        "k =16\n",
        "plt.figure(figsize=(20, 4))\n",
        "for i in range(n):\n",
        "    # display original\n",
        "    ax = plt.subplot(2, n, i + 1)\n",
        "    plt.imshow(x_test_noisy[i*k].reshape(28, 28))\n",
        "    plt.gray()\n",
        "    ax.get_xaxis().set_visible(False)\n",
        "    ax.get_yaxis().set_visible(False)\n",
        "\n",
        "    # display reconstruction\n",
        "    ax = plt.subplot(2, n, i + 1 + n)\n",
        "    plt.imshow(dns_decoded_image[i*k].reshape(28, 28))\n",
        "    plt.gray()\n",
        "    ax.get_xaxis().set_visible(False)\n",
        "    ax.get_yaxis().set_visible(False)\n",
        "plt.show()"
      ],
      "metadata": {
        "cellView": "form",
        "id": "n9XEbKgC9hLK"
      },
      "execution_count": null,
      "outputs": []
    },
    {
      "cell_type": "code",
      "source": [],
      "metadata": {
        "id": "bht0DBw-9hJi"
      },
      "execution_count": null,
      "outputs": []
    }
  ]
}